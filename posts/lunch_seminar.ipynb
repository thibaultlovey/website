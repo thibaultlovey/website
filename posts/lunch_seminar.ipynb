{
  "cells": [
    {
      "cell_type": "raw",
      "metadata": {},
      "source": [
        "---\n",
        "title: \"Illness tracking in SARS-CoV-2 tested persons using a smartphone app: a non-interventional, prospective, cohort study\"\n",
        "description: |\n",
        "  Overview of the effects of SARS-CoV-2 infection on the olfactory system\n",
        "date: 2022-04-19\n",
        "author: \n",
        "  - name: Thibault Lovey\n",
        "image: lunchseminar.png\n",
        "draft: false\n",
        "---"
      ],
      "id": "55ad28ea"
    },
    {
      "cell_type": "markdown",
      "metadata": {},
      "source": [
        "```{css, echo=FALSE}\n",
        ".title {\n",
        "  font-size: 2.4rem;\n",
        "}\n",
        "```\n",
        "\n",
        "## Overview\n",
        "\n",
        "This presentation provides a comprehensive overview of the effects of SARS-CoV-2 infection on the olfactory system, with a particular focus on healthy young adults. It explores the prevalence, mechanisms, and potential long-term consequences of olfactory dysfunction following SARS-CoV-2 infection.\n",
        "\n",
        "## Event details\n",
        "\n",
        "{{< fa calendar-check >}}&nbsp;&nbsp;Lunch Seminar (EBPI), University of Zürich (UZH)<br>\n",
        "{{< fa calendar-alt >}}&nbsp;&nbsp;April 19th, 2022<br>\n",
        "{{< fa clock >}}&nbsp;&nbsp;12:00-13:00 CET<br>\n",
        "{{< fa map-marker-alt >}}&nbsp;&nbsp;Zoom\n",
        "\n",
        "## Slides\n",
        "\n",
        "<iframe class=\"slide-deck ar16x9\" src=\"lunchseminar.html\" title=\"Olfactory dysfunction after SARS-CoV-2-Infection?\" width=\"125%\" height=\"550\"></iframe>\n",
        "\n",
        "<p class=\"text-center\">\n",
        "  <a class=\"btn btn-primary btn-lg cv-download\" href=\"lunchseminar.html\" target=\"_blank\">\n",
        "    {{< fa file-arrow-down >}} Download Slides\n",
        "  </a>\n",
        "</p>\n",
        "\n",
        "\n",
        "\n",
        "<!-- Keyboard shortcuts for slideshow (once you've clicked inside it): -->\n",
        "\n",
        "<!-- - Use <kbd>←</kbd> and <kbd>→</kbd> to navigate through the slides. -->\n",
        "\n",
        "<!-- - Use <kbd>o</kbd> for an overview of all slides. -->\n",
        "\n",
        "<!-- - Use <kbd>h</kbd> to see a list of other shortcuts  -->\n",
        "\n",
        "<!--   - <kbd>f</kbd> to toggle full screen not working, but the rest are fine. -->"
      ],
      "id": "b70f14c4"
    }
  ],
  "metadata": {
    "kernelspec": {
      "display_name": "Python 3",
      "language": "python",
      "name": "python3"
    }
  },
  "nbformat": 4,
  "nbformat_minor": 5
}